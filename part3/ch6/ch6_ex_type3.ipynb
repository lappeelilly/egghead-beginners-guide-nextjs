{
  "cells": [
    {
      "cell_type": "markdown",
      "source": [
        "[구글 코랩(Colab)에서 실행하기](https://colab.research.google.com/github/lovedlim/bigdata_analyst_cert/blob/main/part3/ch6/ch6_ex_type3.ipynb)"
      ],
      "metadata": {
        "id": "nlRMN52jh6dF"
      }
    },
    {
      "cell_type": "markdown",
      "metadata": {
        "id": "rIah9uDls8Y4"
      },
      "source": [
        "# SECTION 01 - 단일 표본 검정\n",
        "\n",
        "> 문제\n",
        "  > 한 커피 제조회사에서 새로 출시한 커피의 카페인 함량이 평균 95mg 미만이라고 주장했다. 그 주장이 사실인가를 알아보기 위해 25개의 커피 샘플을 무작위로 랜덤 추출했다. 커피 제조회사의 주장이 타당한지를 유의수준 5%에서 검정하시오.\n",
        "  - 귀문가설(Ho): `μ >= 95mg`\n",
        "  - 대립가설(H1): `μ < 95mg`\n",
        "\n",
        "```python\n",
        "# 데이터\n",
        "import pandas as pd\n",
        "df = pd.DataFrame({\n",
        "    'Caffeine(mg)': [\n",
        "        94.2, 93.7, 95.5, 93.9, 94.0, 95.2, 94.7, 93.5, 92.8, 94.4,\n",
        "        93.8, 94.6, 93.3, 95.1, 94.3, 94.9, 93.9, 94.8, 95.0, 94.2,\n",
        "        93.7, 94.4, 95.1, 94.0, 93.6\n",
        "    ]\n",
        "})\n",
        "```\n",
        "\n",
        "> Q1 - 표본 데이터의 평균을 구하시오\n",
        "\n",
        "> Q2 - Shapiro-Wilk 검정의 p-value를 구하시오\n",
        "\n",
        "> Q3 - 단일 표본 t-검정의 검정 통계량을 구하시오\n",
        "\n",
        "> Q4 - 단일 표본 t-검정의 p-value를 구하시오\n",
        "\n",
        "> Q5 - 유의수준 0.05 하에서 귀문가설을 기준으로 검정 결과를 채택/기각 중 선택해 입력하시오\n",
        "\n",
        "\n"
      ]
    },
    {
      "cell_type": "code",
      "execution_count": 14,
      "metadata": {
        "id": "YdGBSoK7ss18",
        "outputId": "7b0e7bed-b469-47b5-bfa4-06225708764b",
        "colab": {
          "base_uri": "https://localhost:8080/"
        }
      },
      "outputs": [
        {
          "output_type": "stream",
          "name": "stdout",
          "text": [
            "평균: Caffeine(mg)    94.264\n",
            "dtype: float64\n",
            "shapiro 정규성 검정: ShapiroResult(statistic=0.9826578166170536, pvalue=0.9322031137746971)\n",
            "단일표본 검정통계량: -5.501737036221897\n",
            "단일표본 p-value: 0.0000058687\n",
            "유의수준 > p-value 이므로 귀문가설 기각 대립가설 채택이므로 기각\n"
          ]
        }
      ],
      "source": [
        "# Q1\n",
        "mean = df.mean()\n",
        "print('평균:', mean)\n",
        "\n",
        "# Q2\n",
        "from scipy import stats\n",
        "print('shapiro 정규성 검정:',stats.shapiro(df['Caffeine(mg)']))\n",
        "\n",
        "# Q3\n",
        "statistic, p_val = stats.ttest_1samp(df['Caffeine(mg)'], popmean=95, alternative='less')\n",
        "print('단일표본 검정통계량:',statistic)\n",
        "# Q4\n",
        "print('단일표본 p-value:', format(p_val, '.10f'))\n",
        "# Q5\n",
        "print('유의수준 > p-value 이므로 귀문가설 기각 대립가설 채택이므로 기각')"
      ]
    },
    {
      "cell_type": "markdown",
      "source": [
        "### 교재 풀이"
      ],
      "metadata": {
        "id": "lC_A9PuPqIhG"
      }
    },
    {
      "cell_type": "code",
      "execution_count": null,
      "metadata": {
        "colab": {
          "base_uri": "https://localhost:8080/"
        },
        "id": "eznrJoqNu2Y-",
        "outputId": "618caf1e-c611-49af-e593-43f43f2ca2ff"
      },
      "outputs": [
        {
          "output_type": "stream",
          "name": "stdout",
          "text": [
            "Caffeine(mg)    94.264\n",
            "dtype: float64\n",
            "ShapiroResult(statistic=0.9826578166170536, pvalue=0.9322031137746971)\n",
            "TtestResult(statistic=-5.501737036221897, pvalue=5.8686553916715e-06, df=24)\n"
          ]
        }
      ],
      "source": [
        "# 1. 표본 평균\n",
        "print(df.mean())\n",
        "\n",
        "# 2. 정규성 검정\n",
        "from scipy import stats\n",
        "print(stats.shapiro(df['Caffeine(mg)']))\n",
        "\n",
        "# 3~5.단일 표본 t-검정\n",
        "print(stats.ttest_1samp(df['Caffeine(mg)'], 95, alternative='less'))\n",
        "\n",
        "# 지수표기법을 고정소수점으로 표현하는 방법\n",
        "statistic, pvalue = stats.ttest_1samp(df['Caffeine(mg)'], 95, alternative='less')\n",
        "print(\"{:.10f}\".format(pvalue))"
      ]
    },
    {
      "cell_type": "markdown",
      "metadata": {
        "id": "4jmb8WXluI9Z"
      },
      "source": [
        "---\n",
        "# SECTION 02 - 독립 표본 검정\n",
        "\n",
        "> 스마트폰 배터리의 충전 시간을 줄이기 위한 새로운 충전기를 개발했다. 개발된 충전기의 효과를 검증하기 위해 스마트폰 사용자 집단을 두 그룹으로 나눠 한 그룹에는 새로운 충전기를 제공하고, 다른 그룹에는 기존의 충전기를 제공했다. 그 후 두 그룹의 평균 충전 완료 시간을 비교했다. 두 그룹 모두 충전 시간은 정규 분포를 따르며 분산은 같다고 가정한다. 새로운 충전기가 더 빠르다고 할 수 있는지 유의수준 5%하에서 검정하시오. 여기서 두 집단은 모두 정규분포를 따르고 등분산성을 따른다고 가정한다. (μ1: 새로운 충전기 집단의 모평균, μ2: 기존 충전기 집단의 모평균)\n",
        " - 귀문가설(Ho): `μ1 >= μ2`\n",
        " - 대립가설(H1): `μ1 < μ2`\n",
        "\n",
        "\n",
        "```python\n",
        "# 데이터\n",
        "import pandas as pd\n",
        "df = pd.DataFrame({\n",
        "    '충전기': ['New'] * 10 + ['Old'] * 10,\n",
        "    '충전시간': [\n",
        "        1.5, 1.6, 1.4, 1.7, 1.5, 1.6, 1.7, 1.4, 1.6, 1.5,\n",
        "        1.7, 1.8, 1.7, 1.9, 1.8, 1.7, 1.8, 1.9, 1.7, 1.6\n",
        "    ]\n",
        "})\n",
        "print(df.head(2))\n",
        "```\n",
        "\n",
        "> Q1. 위의 가설을 검증하기 위한 검정 통계량을 구하시오\n",
        "\n",
        "> Q2. 위의 통계량에서 p-value를 구하시오.\n",
        "\n",
        "> Q3. 유의수준 0.05하에서 귀문가설을 기준으로 검정의 결과를 채택/기각을 선택해 입력하시오\n",
        "\n"
      ]
    },
    {
      "cell_type": "code",
      "source": [
        "import pandas as pd\n",
        "df = pd.DataFrame({\n",
        "    '충전기': ['New'] * 10 + ['Old'] * 10,\n",
        "    '충전시간': [\n",
        "        1.5, 1.6, 1.4, 1.7, 1.5, 1.6, 1.7, 1.4, 1.6, 1.5,\n",
        "        1.7, 1.8, 1.7, 1.9, 1.8, 1.7, 1.8, 1.9, 1.7, 1.6\n",
        "    ]\n",
        "})\n",
        "print(df.head(2))\n",
        "\n",
        "from scipy import stats\n",
        "new_cond = df['충전기'] == 'New'\n",
        "old_cond = df['충전기'] == 'Old'\n",
        "\n",
        "statistic, p_val = stats.ttest_ind(df[new_cond]['충전시간'], df[old_cond]['충전시간'], alternative='less', equal_var=True)\n",
        "# Q1\n",
        "print(statistic)\n",
        "# Q2\n",
        "print(p_val)\n",
        "# Q3\n",
        "print('기각')"
      ],
      "metadata": {
        "id": "eq6tfmNBr4bA",
        "outputId": "34d571e9-0791-4023-b783-51a8322c40e7",
        "colab": {
          "base_uri": "https://localhost:8080/"
        }
      },
      "execution_count": 20,
      "outputs": [
        {
          "output_type": "stream",
          "name": "stdout",
          "text": [
            "   충전기  충전시간\n",
            "0  New   1.5\n",
            "1  New   1.6\n",
            "-4.582575694955849\n",
            "0.00011546547787696304\n",
            "기각\n"
          ]
        }
      ]
    },
    {
      "cell_type": "markdown",
      "source": [
        "> ### 교재 풀이"
      ],
      "metadata": {
        "id": "y6rHMtFBtKnV"
      }
    },
    {
      "cell_type": "code",
      "execution_count": null,
      "metadata": {
        "colab": {
          "base_uri": "https://localhost:8080/"
        },
        "id": "kRpNDnEBz-PJ",
        "outputId": "9b610df1-1d21-475e-e7eb-81d721f41e88"
      },
      "outputs": [
        {
          "output_type": "stream",
          "name": "stdout",
          "text": [
            "TtestResult(statistic=-4.582575694955849, pvalue=0.00011546547787696304, df=18.0)\n"
          ]
        }
      ],
      "source": [
        "# 1~3. 독립 표본 t-검정\n",
        "new_cond = df['충전기'] == 'New'\n",
        "old_cond = df['충전기'] == 'Old'\n",
        "print(stats.ttest_ind(df[new_cond]['충전시간'], df[old_cond]['충전시간'], alternative='less', equal_var=True))"
      ]
    },
    {
      "cell_type": "markdown",
      "metadata": {
        "id": "ei2s5M8I73GN"
      },
      "source": [
        "---\n",
        "# SECTION 03 - 대응 표본 검정\n",
        "\n",
        "> 길벗 연구소에서 새로 개발한 교육과정에 참여하면 학습 시간이 단축된다고 주장한다. 10명의 학생들을 대상으로 기존의 교육 방법과 새로운 교육 방법을 적용한 결과에 대해 유의수준 5%에서 새로운 교육방법이 교육시간을 단축시켰는 지를 검정하시오(단, 모집단은 정규성을 따른다고 가정한다)\n",
        "- `μd = (새로운 교육방법 - 기존 교육방법)`\n",
        "- 귀문가설(Ho): `μd = 0`\n",
        "- 대립가설(H1): `μd < 0`\n",
        "\n",
        "```python\n",
        "# 데이터\n",
        "import pandas as pd\n",
        "df = pd.DataFrame({\n",
        "    'User': list(range(1, 11)),\n",
        "    '기존방법': [60.4, 60.7, 60.5, 60.3, 60.8, 60.6, 60.2, 60.5, 60.7, 60.4],\n",
        "    '새로운방법': [59.8, 60.2, 60.1, 59.9, 59.7, 58.4, 57.0, 60.3, 59.6, 59.8]\n",
        "})\n",
        "print(df.head(2))\n",
        "```\n",
        "\n"
      ]
    },
    {
      "cell_type": "code",
      "execution_count": 31,
      "metadata": {
        "colab": {
          "base_uri": "https://localhost:8080/"
        },
        "id": "o45YbWXS74OE",
        "outputId": "18dbfdff-8f45-4449-d150-44107e2f2147"
      },
      "outputs": [
        {
          "output_type": "stream",
          "name": "stdout",
          "text": [
            "   User  기존방법  새로운방법\n",
            "0     1  60.4   59.8\n",
            "1     2  60.7   60.2\n"
          ]
        }
      ],
      "source": [
        "# 데이터\n",
        "import pandas as pd\n",
        "df = pd.DataFrame({\n",
        "    'User': list(range(1, 11)),\n",
        "    '기존방법': [60.4, 60.7, 60.5, 60.3, 60.8, 60.6, 60.2, 60.5, 60.7, 60.4],\n",
        "    '새로운방법': [59.8, 60.2, 60.1, 59.9, 59.7, 58.4, 57.0, 60.3, 59.6, 59.8]\n",
        "})\n",
        "print(df.head(2))"
      ]
    },
    {
      "cell_type": "code",
      "execution_count": 37,
      "metadata": {
        "colab": {
          "base_uri": "https://localhost:8080/"
        },
        "id": "cgV_7XCj78y9",
        "outputId": "ae0d1f30-cfe8-45ab-a472-72029408c3f6"
      },
      "outputs": [
        {
          "output_type": "stream",
          "name": "stdout",
          "text": [
            "-1.0300000000000005\n",
            "TtestResult(statistic=-3.407973078114844, pvalue=0.0038872633380070652, df=9)\n",
            "0.0038872633380070652\n",
            "기각\n"
          ]
        }
      ],
      "source": [
        "# μd의 표본 평균을 구하시오\n",
        "df['diff'] = df['새로운방법'] - df['기존방법']\n",
        "print(df['diff'].mean())\n",
        "\n",
        "from scipy import stats\n",
        "statistic, p_val = stats.ttest_rel(df['새로운방법'], df['기존방법'], alternative='less')\n",
        "# 위의 가설을 검정하기 위한 검정 통계량을 구하시오\n",
        "print(stats.ttest_rel(df['새로운방법'], df['기존방법'], alternative='less'))\n",
        "# 위의 통계량에 대한 p-value를 구하시오\n",
        "print(p_val)\n",
        "# 유의수준 0.05하에서 귀무가설을 기준으로 검정의 결과를 채택/기각 중 선택해 입력하시오\n",
        "print('기각')"
      ]
    },
    {
      "cell_type": "markdown",
      "metadata": {
        "id": "MU5342Fp74lz"
      },
      "source": [
        "---\n",
        "# SECTION 04 - 일원 분산 분석\n",
        "\n",
        "> 4개의 중학교에서 다른 교육 방법을 사용해 학생들에게 수학을 가르쳤다. 각 중학교의 학생들이 받은 교육 후 의 수학성적은 다음과 같다. 이 4개의 교육 방법에 따른 성적 차이가 통계적으로 유의미한지 5% 유의수준 하에서 검정하시오.\n",
        "- 귀문가설(Ho): 모든 중학교에서는 교육 방법에 따른 성적 차이가 없다\n",
        "- 대립가설(H1): 중학교에서는 교육 방법에 따른 성적 차이가 있다\n",
        "\n",
        "\n",
        "```python\n",
        "import pandas as pd\n",
        "# df = pd.read_csv(\"math.csv\")\n",
        "df = pd.read_csv(\"https:\n",
        "```\n",
        "\n"
      ]
    },
    {
      "cell_type": "code",
      "source": [
        "import pandas as pd\n",
        "# df = pd.read_csv(\"math.csv\")\n",
        "df = pd.read_csv(\"https://raw.githubusercontent.com/lovedlim/bigdata_analyst_cert/main/part3/ch6/math.csv\")\n",
        "print(df.head())\n",
        "\n",
        "# 각 그룹의 수학 성적에 대해 Shapiro-Wilk 검정을 통한 정규성을 확인하고, 그 결과의 p-value를 구하시오\n",
        "from scipy import stats\n",
        "\n",
        "condA = (df['groups'] == 'group_A')\n",
        "print(stats.shapiro(df[condA]['scores']))\n",
        "\n",
        "condB = (df['groups'] == 'group_B')\n",
        "print(stats.shapiro(df[condB]['scores']))\n",
        "\n",
        "condC = (df['groups'] == 'group_C')\n",
        "print(stats.shapiro(df[condB]['scores']))\n",
        "\n",
        "condD = (df['groups'] == 'group_D')\n",
        "print(stats.shapiro(df[condB]['scores']))\n",
        "\n",
        "# 4개 그룹의 수학 성적이 등분산성을 갖는지 확인하기 위해 Levene 검정을 실시하고, p-value를 구하시오\n",
        "print(stats.levene(df[condA]['scores'], df[condB]['scores'], df[condC]['scores'], df[condD]['scores']))\n",
        "\n",
        "# 유의수준 0.05 하에서 귀무가설을 기준으로 검정의 결과를 채택/기각 중 선택해 입력하시오\n",
        "from statsmodels.formula.api import ols\n",
        "model = ols('scores ~ groups', data=df).fit()\n",
        "\n",
        "# 그룹의 유니크값 별로 scores 리스트 생성해서 딕셔너리로 만든다\n",
        "grouped_scores = df.groupby('groups')['scores'].apply(list).to_dict()\n",
        "print(grouped_scores)\n",
        "statistic, p_val = stats.f_oneway(grouped_scores['group_A'], grouped_scores['group_B'], grouped_scores['group_C'], grouped_scores['group_D'])\n",
        "print(stats.f_oneway(grouped_scores['group_A'], grouped_scores['group_B'], grouped_scores['group_C'], grouped_scores['group_D']))\n",
        "print(format(p_val, '.12f'), '기각')\n",
        "\n",
        "\n",
        "# 일원분산분석 결과 테이블 조회\n",
        "from statsmodels.stats.anova import anova_lm\n",
        "anova_result = anova_lm(model)\n",
        "print(anova_result)\n",
        "\n",
        "# 그룹 변수의 자유도를 구하시오\n",
        "print(anova_result['df'].iloc[0])\n",
        "# 잔차의 자유도를 구하시오\n",
        "print(anova_result['df'].iloc[1])\n",
        "# 성적의 제곱합을 구하시오\n",
        "print(anova_result['sum_sq'].iloc[0])\n",
        "# 성적의 평균 제곱을 구하시오\n",
        "print(anova_result['mean_sq'].iloc[0])\n",
        "# F-통계량을 구하시오\n",
        "print(anova_result['F'].iloc[0])\n",
        "# 성적에 대한 p-value를 구하시오\n",
        "print(anova_result['PR(>F)'].iloc[0], format(anova_result['PR(>F)'].iloc[0], '.12f'))"
      ],
      "metadata": {
        "colab": {
          "base_uri": "https://localhost:8080/"
        },
        "id": "8j386IAO1M5I",
        "outputId": "93f795ee-79f5-4c74-9b1b-fe585ccb5e97",
        "collapsed": true
      },
      "execution_count": 72,
      "outputs": [
        {
          "output_type": "stream",
          "name": "stdout",
          "text": [
            "    groups  scores\n",
            "0  group_A      85\n",
            "1  group_A      88\n",
            "2  group_A      90\n",
            "3  group_A      82\n",
            "4  group_A      87\n",
            "ShapiroResult(statistic=0.9715896670696531, pvalue=0.9051800443853569)\n",
            "ShapiroResult(statistic=0.9499422438060351, pvalue=0.6678172590861611)\n",
            "ShapiroResult(statistic=0.9499422438060351, pvalue=0.6678172590861611)\n",
            "ShapiroResult(statistic=0.9499422438060351, pvalue=0.6678172590861611)\n",
            "LeveneResult(statistic=1.757685352622062, pvalue=0.17270284963232108)\n",
            "{'group_A': [85, 88, 90, 82, 87, 89, 92, 86, 88, 90], 'group_B': [78, 80, 79, 81, 80, 78, 77, 79, 78, 82], 'group_C': [80, 82, 85, 84, 81, 86, 82, 81, 83, 80], 'group_D': [85, 84, 86, 87, 85, 86, 84, 85, 87, 86]}\n",
            "F_onewayResult(statistic=34.17427385892114, pvalue=1.2406415428510513e-10)\n",
            "0.000000000124 기각\n",
            "            df  sum_sq     mean_sq          F        PR(>F)\n",
            "groups     3.0   411.8  137.266667  34.174274  1.240642e-10\n",
            "Residual  36.0   144.6    4.016667        NaN           NaN\n",
            "3.0\n",
            "36.0\n",
            "411.7999999999973\n",
            "137.26666666666577\n",
            "34.174273858920934\n",
            "1.2406415428511555e-10 0.000000000124\n"
          ]
        }
      ]
    },
    {
      "cell_type": "markdown",
      "source": [
        "### 교재 풀이"
      ],
      "metadata": {
        "id": "SV-dlUr8nYX0"
      }
    },
    {
      "cell_type": "code",
      "source": [
        "import pandas as pd\n",
        "# df = pd.read_csv(\"math.csv\")\n",
        "df = pd.read_csv(\"https://raw.githubusercontent.com/lovedlim/bigdata_analyst_cert/main/part3/ch6/math.csv\")\n",
        "print(df.head())\n",
        "\n",
        "from scipy import stats\n",
        "\n",
        "# 1. Shapiro-Wilk 검정 (정규성)\n",
        "condA = df['groups']=='group_A'\n",
        "print(stats.shapiro(df[condA]['scores']))\n",
        "\n",
        "condB = df['groups']=='group_B'\n",
        "print(stats.shapiro(df[condB]['scores']))\n",
        "\n",
        "condC = df['groups']=='group_C'\n",
        "print(stats.shapiro(df[condC]['scores']))\n",
        "\n",
        "condD = df['groups']=='group_D'\n",
        "print(stats.shapiro(df[condD]['scores']))\n",
        "\n",
        "# 2. Levene 검정 (등분산성)\n",
        "print(stats.levene(df[condA]['scores'], df[condB]['scores'], df[condC]['scores'], df[condD]['scores']))"
      ],
      "metadata": {
        "colab": {
          "base_uri": "https://localhost:8080/"
        },
        "id": "JeIkwEkY1wFY",
        "outputId": "6481ebd2-1b7b-49b3-f669-b9b3c1d90dec"
      },
      "execution_count": null,
      "outputs": [
        {
          "output_type": "stream",
          "name": "stdout",
          "text": [
            "ShapiroResult(statistic=0.9715896670696531, pvalue=0.9051800443853569)\n",
            "ShapiroResult(statistic=0.9499422438060351, pvalue=0.6678172590861611)\n",
            "ShapiroResult(statistic=0.9299424104842702, pvalue=0.44732595113862045)\n",
            "ShapiroResult(statistic=0.9065684572704982, pvalue=0.25824165549017347)\n",
            "LeveneResult(statistic=1.757685352622062, pvalue=0.17270284963232108)\n"
          ]
        }
      ]
    },
    {
      "cell_type": "code",
      "source": [
        "# 일원분산분석을 위한 모델 학습\n",
        "from statsmodels.formula.api import ols\n",
        "model = ols('scores ~ groups', df).fit()\n",
        "\n",
        "# 3~9. ANOVA 테이블\n",
        "from statsmodels.stats.anova import anova_lm\n",
        "print(anova_lm(model))"
      ],
      "metadata": {
        "colab": {
          "base_uri": "https://localhost:8080/"
        },
        "id": "qVILWYjPt6ly",
        "outputId": "900e6cf3-8c7d-46f1-bcdb-a56b9ce8ac7f"
      },
      "execution_count": null,
      "outputs": [
        {
          "output_type": "stream",
          "name": "stdout",
          "text": [
            "            df  sum_sq     mean_sq          F        PR(>F)\n",
            "groups     3.0   411.8  137.266667  34.174274  1.240642e-10\n",
            "Residual  36.0   144.6    4.016667        NaN           NaN\n"
          ]
        }
      ]
    },
    {
      "cell_type": "markdown",
      "source": [
        "---\n",
        "# SECTION 05 - 이원 분산 분석\n",
        "\n",
        "> H 토마토 연구소에서는 토마토의 수확량을 늘리기 위해 세 가지 다른 비료 유형과 네 가지 다른 물 주기를 실험하고자 한다. 연구소에서는 12개의 토마토 식물을 무작위로 선택해 각 조합에 대해 반복적으로 실험을 수행했다.\n",
        "\n",
        "### 비료 유형에 따른 효과\n",
        "  - 귀문가설(Ho): 비료 유형에 따라서 토마토 수확량에 차이 없다\n",
        "  - 대립가설(H1): 비료 유형에 따라서 토마토 수확량에 차이가 있다\n",
        "### 물 주기에 따른 효과\n",
        "  - 귀문가설(Ho): 물 주기에 따라서 토마토 수확량에 차이 없다\n",
        "  - 대립가설(H1): 물 주기에 따라서 토마토 수확량에 차이가 있다\n",
        "### 비료 유형과 물 주기 간에 상호작용 효과\n",
        "  - 귀문가설(Ho): 비료 유형과 물 주기 간의 상호작용은 토마토 수확량에 영향을 주지 않는다\n",
        "  - 대립가설(H1): 비료 유형과 물 주기 간의 상호작용은 토마토 수확량에 영향을 준다\n",
        "\n",
        "\n",
        "\n",
        "```python\n",
        "# 데이터\n",
        "import pandas as pd\n",
        "# df = pd.read_csv(\"tomato2.csv\")\n",
        "df = pd.read_csv(\"https://raw.githubusercontent.com/lovedlim/bigdata_analyst_cert/main/part3/ch6/tomato2.csv\")\n",
        "print(df.head())\n",
        "```\n",
        "\n"
      ],
      "metadata": {
        "id": "Zmtdhqk-2_XA"
      }
    },
    {
      "cell_type": "code",
      "source": [
        "# 데이터\n",
        "import pandas as pd\n",
        "# df = pd.read_csv(\"tomato2.csv\")\n",
        "df = pd.read_csv(\"https://raw.githubusercontent.com/lovedlim/bigdata_analyst_cert/main/part3/ch6/tomato2.csv\")\n",
        "print(df.head())\n",
        "\n",
        "import statsmodels.api as sm\n",
        "from statsmodels.formula.api import ols\n",
        "\n",
        "# 비료 유형에 따른 토마토 수확량의 평균에 차이가 있는지를 검정하기 위한 검정 통계량을 구하시오\n",
        "model = ols('수확량 ~ C(비료유형) + C(물주기) + C(비료유형)*C(물주기)', data=df).fit()\n",
        "anova_table = sm.stats.anova_lm(model)\n",
        "print(anova_table)\n",
        "print(anova_table['F'].iloc[0])\n",
        "\n",
        "# 위의 통계량에 대한 p-value를 구하시오\n",
        "print(anova_table['PR(>F)'].iloc[0])\n",
        "\n",
        "# 위의 검정 결과를 유의수준 0.05하에서 기준으로 채택/기각 중 선택해 입력하시오\n",
        "print('채택')\n",
        "\n",
        "# 물 주기에 따른 토마토 수확량의 평균에 차이가 있는지를 검정하기 위한 검정 통계량을 구하시오\n",
        "print(anova_table['F'].iloc[1])\n",
        "\n",
        "# 위의 통계량에 대한 p-value를 구하시오\n",
        "print(anova_table['PR(>F)'].iloc[1])\n",
        "\n",
        "# 위의 검정 결과를 유의수준 0.05하에서 기준으로 채택/기각 중 선택해 입력하시오\n",
        "print('기각')\n",
        "\n",
        "# 비료 유형과 물 주기 간의 상호작용이 토마토 수확량에 영향이 있는 지 검증하기 위한 검정 통계량을 구하시오\n",
        "print(anova_table['F'].iloc[2])\n",
        "\n",
        "# 위의 통계량에 대한 p-value를 구하시오\n",
        "print(anova_table['PR(>F)'].iloc[2])\n",
        "\n",
        "# 위의 검정 결과를 유의수준 0.05하에서 기준으로 채택/기각 중 선택해 입력하시오\n",
        "print('채택')\n"
      ],
      "metadata": {
        "id": "DU30cD1I2-5F",
        "colab": {
          "base_uri": "https://localhost:8080/"
        },
        "outputId": "b2c58f6f-ed1a-4a5c-a959-6e4fbb5fe34f",
        "collapsed": true
      },
      "execution_count": 89,
      "outputs": [
        {
          "output_type": "stream",
          "name": "stdout",
          "text": [
            "  비료유형  물주기  수확량\n",
            "0    A    1  514\n",
            "1    A    1  480\n",
            "2    A    1  507\n",
            "3    A    2  452\n",
            "4    A    2  526\n",
            "                  df        sum_sq      mean_sq         F    PR(>F)\n",
            "C(비료유형)          2.0   5251.722222  2625.861111  3.184685  0.059334\n",
            "C(물주기)           3.0   9057.000000  3019.000000  3.661490  0.026460\n",
            "C(비료유형):C(물주기)   6.0   4271.833333   711.972222  0.863491  0.535426\n",
            "Residual        24.0  19788.666667   824.527778       NaN       NaN\n",
            "3.1846848364383464\n",
            "0.059334264550395734\n",
            "채택\n",
            "3.661489741602946\n",
            "0.0264595158315761\n",
            "기각\n",
            "0.8634908870397201\n",
            "0.5354260742088475\n",
            "채택\n"
          ]
        }
      ]
    },
    {
      "cell_type": "markdown",
      "source": [
        "### 교재 풀이"
      ],
      "metadata": {
        "id": "JvAK88HavxPR"
      }
    },
    {
      "cell_type": "code",
      "source": [
        "# 데이터\n",
        "import pandas as pd\n",
        "# df = pd.read_csv(\"tomato2.csv\")\n",
        "df = pd.read_csv(\"https://raw.githubusercontent.com/lovedlim/bigdata_analyst_cert/main/part3/ch6/tomato2.csv\")\n",
        "print(df.head())\n",
        "\n",
        "import statsmodels.api as sm\n",
        "from statsmodels.formula.api import ols\n",
        "\n",
        "# 1~9 이원 분산 분석\n",
        "model = ols('수확량 ~ C(비료유형) * C(물주기)', data=df).fit()\n",
        "anova_table = sm.stats.anova_lm(model)\n",
        "print(anova_table)"
      ],
      "metadata": {
        "id": "1J0N5JajP93i",
        "colab": {
          "base_uri": "https://localhost:8080/"
        },
        "outputId": "6fec3d13-e719-48cb-fd71-08648dc8b462"
      },
      "execution_count": 73,
      "outputs": [
        {
          "output_type": "stream",
          "name": "stdout",
          "text": [
            "  비료유형  물주기  수확량\n",
            "0    A    1  514\n",
            "1    A    1  480\n",
            "2    A    1  507\n",
            "3    A    2  452\n",
            "4    A    2  526\n",
            "                  df        sum_sq      mean_sq         F    PR(>F)\n",
            "C(비료유형)          2.0   5251.722222  2625.861111  3.184685  0.059334\n",
            "C(물주기)           3.0   9057.000000  3019.000000  3.661490  0.026460\n",
            "C(비료유형):C(물주기)   6.0   4271.833333   711.972222  0.863491  0.535426\n",
            "Residual        24.0  19788.666667   824.527778       NaN       NaN\n"
          ]
        }
      ]
    },
    {
      "cell_type": "markdown",
      "source": [
        "---\n",
        "\n",
        "# SECTION 06 - 적합도 검정\n",
        "\n",
        "> 한 도시의 운전자 1,000명을 대상으로 교통사고 경험 수를 조사했다. 1회: 550명, 2회: 250명, 3회: 100명, 4회: 70명, 5회 이상: 30명이다. 전국적으로 조사된 데이터에 따르면 운전자들의 교통사고 경험 수 분포는 다음과 같다. 1회: 60%, 2회: 25%, 3회: 8%, 4회:5%, 5회 이상: 2%이다. 이 도시 운전자들의 교통사고 경험 수 분포가 전국적인 경향을 따르는 지 검정하시오 (단, 유의수준은 5%이다)\n",
        "\n",
        "- 귀문가설(Ho): 도시 운전자들의 교통사고 경험 수 분포는 전국적 경향과 동일하다\n",
        "- 대립가설(H1): 도시 운전자들의 교통사고 경험 수 분포는 전국적 경험과 상이하다\n"
      ],
      "metadata": {
        "id": "MPnLvlVkTKR-"
      }
    },
    {
      "cell_type": "code",
      "source": [
        "# 이 도시 교통사고 경험자 중 5회 이상의 비율을 0과 1 사이로 구하시오\n",
        "print(30 / 1000)\n",
        "\n",
        "# 이 도시 운전자들의 교통사고 경험 수 분포가 전국적인 경향을 따르는 지 검정하기 위한 검정 통계량을 구하시오\n",
        "observed = [550, 250, 100, 70, 30]\n",
        "expected = [1000*0.6, 1000*0.25, 1000*0.08, 1000*0.05, 1000*0.02]\n",
        "\n",
        "from scipy import stats\n",
        "statistic, p_val = stats.chisquare(observed, expected)\n",
        "print(statistic)\n",
        "# 위의 통계량에 대한 p-value를 구하시오\n",
        "print(p_val)\n",
        "# 위의 검정 결과를 유의수준 0.05하에서 귀무가설 기각 또는 채택 중 선택해 입력하시오\n",
        "print('채택')"
      ],
      "metadata": {
        "id": "ByF0f2nB0Wwm",
        "outputId": "c3af6483-5ef3-429e-f571-3a0d1f569a18",
        "colab": {
          "base_uri": "https://localhost:8080/"
        }
      },
      "execution_count": 93,
      "outputs": [
        {
          "output_type": "stream",
          "name": "stdout",
          "text": [
            "0.03\n",
            "22.166666666666668\n",
            "0.00018567620386641427\n",
            "채택\n"
          ]
        }
      ]
    },
    {
      "cell_type": "code",
      "source": [
        "# 1. 교통사고 5회 이상 경험 비율\n",
        "print(30 / 1000)\n",
        "\n",
        "# 2~4. 적합도 검정\n",
        "from scipy.stats import chisquare\n",
        "observed = [550, 250, 100, 70, 30]\n",
        "expected = [1000*0.60, 1000*0.25, 1000*0.08, 1000*0.05, 1000*0.02]\n",
        "print(chisquare(observed, expected))"
      ],
      "metadata": {
        "id": "eXPWPwWuTDql",
        "colab": {
          "base_uri": "https://localhost:8080/"
        },
        "outputId": "363f3ca2-8afc-461e-883e-ab65804a8242"
      },
      "execution_count": null,
      "outputs": [
        {
          "output_type": "stream",
          "name": "stdout",
          "text": [
            "0.03\n",
            "Power_divergenceResult(statistic=22.166666666666668, pvalue=0.00018567620386641427)\n"
          ]
        }
      ]
    },
    {
      "cell_type": "markdown",
      "source": [
        "---\n",
        "# SECTION 07 - 독립성 검정\n",
        "\n",
        "> 길벗 대학에는 빅데이터 분석기사 캠프와 정보처리기사 캠프가 있다. 최근 두 캠프 학생들 사이에서 주최한 세미나에 참여하려면 등록을 해야한다. 각 캠프의 세미나 등록 여부를 조사한 결과는 아래와 같다. 캠프와 세미나 등록 여부가 서로 독립적인 지 검정하시오 (단, 유의수준 0.05)\n",
        "\n",
        "- 귀문가설(Ho): 캠프와 세미나 등록 여부는 서로 독립적이다\n",
        "- 대립가설(H1): 캠프와 세미나 등록 여부는 서로 독립적이지 않다\n",
        "\n",
        "\n",
        "> 교차표가 주어진 경우\n",
        "\n",
        "|구분|등록함|등록 안함|\n",
        "|------|---|---|\n",
        "|빅데이터분석기사 캠프|50|30|\n",
        "|정보처리기사 캠프|60|40|\n",
        "\n",
        "> raw 데이터가 주어진 경우\n",
        "\n",
        "```python\n",
        "import pandas as pd\n",
        "df = pd.DataFrame({\n",
        "        '캠프': ['빅분기']*80 + ['정처기']*100,\n",
        "        '등록여부': ['등록']*50 + ['등록안함']*30 + ['등록']*60 + ['등록안함']*40\n",
        "})\n",
        "print(df.head())\n",
        "```\n",
        "\n"
      ],
      "metadata": {
        "id": "0zBxYKgtTLyd"
      }
    },
    {
      "cell_type": "code",
      "source": [
        "# 교차표가 주어진 경우\n",
        "df = pd.DataFrame([[50, 30], [60, 40]], columns=['등록', '등록안함'], index=['빅분기', '정처기'])\n",
        "print(df)\n",
        "\n",
        "# 캠프와 세미나 등록 여부가 서로 독립적인지 검정하기 위한 검정 통계량을 구하시오\n",
        "from scipy.stats import chi2_contingency\n",
        "statistic, p_val, dof, expected_freq = chi2_contingency(df)\n",
        "print(statistic)\n",
        "# 위의 통계량에 대한 p-value를 구하시오\n",
        "print(p_val)\n",
        "# 위의 검정 결과를 유의수준 0.05하에서 귀무가설 기각 또는 채택 중 선택해 입력하시오\n",
        "print('채택')\n",
        "\n",
        "\n",
        "# raw 데이터가 주어진 경우\n",
        "df = pd.DataFrame({'캠프': ['빅분기'] * 80 + ['정처기'] * 100, '등록여부': ['등록']*50 + ['등록안함']*30 + ['등록']*60 + ['등록안함']*40})\n",
        "df = pd.crosstab(df['캠프'], df['등록여부'])\n",
        "print(df)\n",
        "print(chi2_contingency(df))"
      ],
      "metadata": {
        "id": "cg2WyJ1B2ZKW",
        "outputId": "55ad4687-25ba-400b-9b45-5d5dc14f7d75",
        "colab": {
          "base_uri": "https://localhost:8080/"
        }
      },
      "execution_count": 110,
      "outputs": [
        {
          "output_type": "stream",
          "name": "stdout",
          "text": [
            "     등록  등록안함\n",
            "빅분기  50    30\n",
            "정처기  60    40\n",
            "0.03535714285714309\n",
            "0.8508492527705047\n",
            "채택\n",
            "등록여부  등록  등록안함\n",
            "캠프            \n",
            "빅분기   50    30\n",
            "정처기   60    40\n",
            "Chi2ContingencyResult(statistic=0.03535714285714309, pvalue=0.8508492527705047, dof=1, expected_freq=array([[48.88888889, 31.11111111],\n",
            "       [61.11111111, 38.88888889]]))\n"
          ]
        }
      ]
    },
    {
      "cell_type": "code",
      "source": [
        "import pandas as pd\n",
        "from scipy.stats import chi2_contingency\n",
        "\n",
        "# 1~3. 독립성 검정\n",
        "observed = pd.DataFrame([[50, 30], [60, 40]])\n",
        "print(chi2_contingency(observed))"
      ],
      "metadata": {
        "id": "7-6Xuq7HTDyy",
        "colab": {
          "base_uri": "https://localhost:8080/"
        },
        "outputId": "da96fcac-affe-429a-b887-bd720a23f9a6"
      },
      "execution_count": null,
      "outputs": [
        {
          "output_type": "stream",
          "name": "stdout",
          "text": [
            "Chi2ContingencyResult(statistic=0.03535714285714309, pvalue=0.8508492527705047, dof=1, expected_freq=array([[48.88888889, 31.11111111],\n",
            "       [61.11111111, 38.88888889]]))\n"
          ]
        }
      ]
    },
    {
      "cell_type": "code",
      "source": [
        "# 데이터\n",
        "import pandas as pd\n",
        "df = pd.DataFrame({\n",
        "        '캠프': ['빅분기']*80 + ['정처기']*100,\n",
        "        '등록여부': ['등록']*50 + ['등록안함']*30 + ['등록']*60 + ['등록안함']*40\n",
        "})\n",
        "print(df.head())"
      ],
      "metadata": {
        "id": "hiW56w1DTD1L",
        "colab": {
          "base_uri": "https://localhost:8080/"
        },
        "outputId": "76a346af-49bf-40a3-adad-729cd99c7a50"
      },
      "execution_count": null,
      "outputs": [
        {
          "output_type": "stream",
          "name": "stdout",
          "text": [
            "    캠프 등록여부\n",
            "0  빅분기   등록\n",
            "1  빅분기   등록\n",
            "2  빅분기   등록\n",
            "3  빅분기   등록\n",
            "4  빅분기   등록\n"
          ]
        }
      ]
    },
    {
      "cell_type": "code",
      "source": [
        "# 교차표로 변경\n",
        "df = pd.crosstab(df['캠프'], df['등록여부'])\n",
        "print(df)\n",
        "\n",
        "# 4~6. 독립성 검정\n",
        "print(chi2_contingency(df))"
      ],
      "metadata": {
        "id": "sYn61RTV7egq",
        "colab": {
          "base_uri": "https://localhost:8080/"
        },
        "outputId": "4cce9c27-b082-4119-a089-18ebee380089"
      },
      "execution_count": null,
      "outputs": [
        {
          "output_type": "stream",
          "name": "stdout",
          "text": [
            "등록여부  등록  등록안함\n",
            "캠프            \n",
            "빅분기   50    30\n",
            "정처기   60    40\n",
            "Chi2ContingencyResult(statistic=0.03535714285714309, pvalue=0.8508492527705047, dof=1, expected_freq=array([[48.88888889, 31.11111111],\n",
            "       [61.11111111, 38.88888889]]))\n"
          ]
        }
      ]
    },
    {
      "cell_type": "markdown",
      "metadata": {
        "id": "BTpNhSDU751h"
      },
      "source": [
        "# SECTION 08 - 다중 선형 회귀\n",
        "\n",
        "> 한 도시의 배달 서비스 회사에서 한 달 동안의 주문 데이터를 수집했다. 배달 주문량은 할인율(%), 온도, 광고비(천 원)와 같은 다양한 요인들에 의해 영향을 받을 수 있다. 배달 서비스 회사는 이러한 요인을 고려해 주문량을 예측하고자 한다. 할인율, 온도, 광고비를 독립변수로 사용해 다중 선형 회귀 모델을 만들고, 다음 문제에 답하시오.\n",
        "\n",
        "```python\n",
        "# 데이터\n",
        "import pandas as pd\n",
        "df = pd.DataFrame({\n",
        "    '할인율': [28, 24, 13, 0, 27, 30, 10, 16, 6, 5, 7, 11, 11, 30, 25,\n",
        "            4, 7, 24, 19, 21, 6, 10, 26, 13, 15, 6, 12, 6, 20, 2],\n",
        "    '온도': [15, 34, 15, 22, 29, 30, 14, 17, 28, 29, 19, 19, 34, 10,\n",
        "           29, 28, 12, 25, 32, 28, 22, 16, 30, 11, 16, 18, 16, 33, 12, 22],\n",
        "    '광고비': [342, 666, 224, 764, 148, 499, 711, 596, 797, 484, 986, 347, 146, 362, 642,\n",
        "            591, 846, 260, 560, 941, 469, 309, 730, 305, 892, 147, 887, 526, 525, 884],\n",
        "    '주문량': [635, 958, 525, 25, 607, 872, 858, 732, 1082, 863, 904, 686, 699, 615, 893,\n",
        "            830, 856, 679, 918, 951, 789, 583, 988, 631, 866, 549, 910, 946, 647, 943]\n",
        "})\n",
        "print(df.head(3))\n",
        "```"
      ]
    },
    {
      "cell_type": "code",
      "source": [
        "# 데이터\n",
        "import pandas as pd\n",
        "df = pd.DataFrame({\n",
        "    '할인율': [28, 24, 13, 0, 27, 30, 10, 16, 6, 5, 7, 11, 11, 30, 25,\n",
        "            4, 7, 24, 19, 21, 6, 10, 26, 13, 15, 6, 12, 6, 20, 2],\n",
        "    '온도': [15, 34, 15, 22, 29, 30, 14, 17, 28, 29, 19, 19, 34, 10,\n",
        "           29, 28, 12, 25, 32, 28, 22, 16, 30, 11, 16, 18, 16, 33, 12, 22],\n",
        "    '광고비': [342, 666, 224, 764, 148, 499, 711, 596, 797, 484, 986, 347, 146, 362, 642,\n",
        "            591, 846, 260, 560, 941, 469, 309, 730, 305, 892, 147, 887, 526, 525, 884],\n",
        "    '주문량': [635, 958, 525, 25, 607, 872, 858, 732, 1082, 863, 904, 686, 699, 615, 893,\n",
        "            830, 856, 679, 918, 951, 789, 583, 988, 631, 866, 549, 910, 946, 647, 943]\n",
        "})\n",
        "print(df.head(3))\n",
        "\n",
        "from statsmodels.formula.api import ols\n",
        "model = ols('주문량 ~ 할인율 + 온도 + 광고비', data=df).fit()\n",
        "\n",
        "# 할인율과 온도의 상관 관계를 구하시오 (반올림하여 소수 둘째 자리까지 계산)\n",
        "print(round(df['할인율'].corr(df['온도']),2))\n",
        "\n",
        "# 모델의 결정 계수를 구하시오 (반올림하여 소수 둘째 자리까지 계산)\n",
        "print(round(model.rsquared, 2))\n",
        "\n",
        "# 각 변수의 회귀 계수를 구하시오 (반올림하여 소수 넷째 자리까지 계산)\n",
        "할인율 = round(model.params['할인율'], 4)\n",
        "온도 = round(model.params['온도'], 4)\n",
        "광고비 = round(model.params['광고비'], 4)\n",
        "print(f\"할인율 회귀계수:{할인율}\")\n",
        "print(f\"절편 회귀계수: {y_val}\")\n",
        "print(f\"온도 회귀계수: {온도}\")\n",
        "print(f\"광고비 회귀계수: {광고비}\")\n",
        "\n",
        "# 모델의 절편을 구하시오\n",
        "y_val = round(model.params['Intercept'], 4)\n",
        "print(f\"절편: {y_val}\")\n",
        "\n",
        "# 온도의 회귀 계수가 통계적으로 유의한지 검정하시오 (p-value를 반올림하여 소수 넷째 자리까지 계산)\n",
        "cel_pval = round(model.pvalues['온도'], 4)\n",
        "print(f'온도 회귀계수 p-value: {cel_pval}')\n",
        "\n",
        "# 데이터가 할인율이 10%, 온도가 20도, 광고비가 500,000원일 때 배달 주문량을 예측하시오\n",
        "new_data = pd.DataFrame({'할인율': [10], '온도': [20], '광고비': [500]})\n",
        "result = model.predict(new_data)[0]\n",
        "print('예측 배달주문량:', int(result))\n",
        "\n",
        "# 잔차 제곱합을 구하시오\n",
        "df['잔차'] = df['주문량'] - model.predict(df)\n",
        "resi_sum = sum(df['잔차'] ** 2)\n",
        "print(f'잔차 제곱합: {round(resi_sum, 2)}')\n",
        "\n",
        "# MSE를 구하시오\n",
        "resi_mean = (df['잔차'] ** 2).mean()\n",
        "print(f'MSE: {round(resi_mean, 2)}')\n",
        "\n",
        "# 각 변수에 대한 회귀계수에 대한 90% 신뢰구간을 구하시오\n",
        "conf_phase = model.conf_int(alpha=0.1)\n",
        "print(conf_phase)\n",
        "\n",
        "# 데이터가 할인율이 10%, 온도가 25도, 광고비가 300,000일때 90% 신뢰구간과 예측 구간을 구하시오\n",
        "new_data = pd.DataFrame({'할인율': [10], '온도': [25], '광고비': [300]})\n",
        "pred = model.get_prediction(new_data)\n",
        "result = pred.summary_frame(alpha=0.1)\n",
        "print(f'신뢰구간과 예측구간:\\n {result}')\n",
        "\n",
        "\n",
        "# 독립변수 할인율과 온도를 고정한 상태에서 광고비가 배달 주문량에 영향을 주는지 가설을 검정하시오. 유의수준 0.05를 기준을 귀문가설을 기각 또는 채택을 답하시오\n",
        "  # 귀문가설(Ho): 광고비의 회귀계수는 0이다\n",
        "  # 대립가설(H1): 광고비의 회귀계수는 0이 아니다.\n",
        "cond = (model.pvalues['광고비'] < 0.05)\n",
        "if cond:\n",
        "  print('기각')\n",
        "else:\n",
        "  print('채택')\n",
        "\n",
        "# 선형 회귀 모델의 요약 결과\n",
        "print(model.summary())"
      ],
      "metadata": {
        "colab": {
          "base_uri": "https://localhost:8080/"
        },
        "id": "krDzI0y-rXNr",
        "outputId": "a7c6f06c-d68d-4beb-c555-6931558455ef"
      },
      "execution_count": 50,
      "outputs": [
        {
          "output_type": "stream",
          "name": "stdout",
          "text": [
            "   할인율  온도  광고비  주문량\n",
            "0   28  15  342  635\n",
            "1   24  34  666  958\n",
            "2   13  15  224  525\n",
            "0.09\n",
            "0.4\n",
            "할인율 회귀계수:4.2068\n",
            "절편 회귀계수: 267.6609\n",
            "온도 회귀계수: 9.4798\n",
            "광고비 회귀계수: 0.4148\n",
            "절편: 267.6609\n",
            "온도 회귀계수 p-value: 0.0289\n",
            "예측 배달주문량: 706\n",
            "잔차 제곱합: 732197.9\n",
            "MSE: 24406.6\n",
            "                   0           1\n",
            "Intercept  45.955720  489.366084\n",
            "할인율        -1.847229   10.260887\n",
            "온도          2.490702   16.468984\n",
            "광고비         0.201064    0.628589\n",
            "신뢰구간과 예측구간:\n",
            "         mean    mean_se  mean_ci_lower  mean_ci_upper  obs_ci_lower  \\\n",
            "0  671.17324  51.216465     583.817519      758.52896    371.913431   \n",
            "\n",
            "   obs_ci_upper  \n",
            "0    970.433049  \n",
            "기각\n",
            "                            OLS Regression Results                            \n",
            "==============================================================================\n",
            "Dep. Variable:                    주문량   R-squared:                       0.400\n",
            "Model:                            OLS   Adj. R-squared:                  0.330\n",
            "Method:                 Least Squares   F-statistic:                     5.770\n",
            "Date:                Mon, 11 Nov 2024   Prob (F-statistic):            0.00366\n",
            "Time:                        15:20:14   Log-Likelihood:                -194.11\n",
            "No. Observations:                  30   AIC:                             396.2\n",
            "Df Residuals:                      26   BIC:                             401.8\n",
            "Df Model:                           3                                         \n",
            "Covariance Type:            nonrobust                                         \n",
            "==============================================================================\n",
            "                 coef    std err          t      P>|t|      [0.025      0.975]\n",
            "------------------------------------------------------------------------------\n",
            "Intercept    267.6609    129.985      2.059      0.050       0.472     534.849\n",
            "할인율            4.2068      3.549      1.185      0.247      -3.089      11.503\n",
            "온도             9.4798      4.098      2.313      0.029       1.057      17.903\n",
            "광고비            0.4148      0.125      3.310      0.003       0.157       0.672\n",
            "==============================================================================\n",
            "Omnibus:                       56.788   Durbin-Watson:                   1.647\n",
            "Prob(Omnibus):                  0.000   Jarque-Bera (JB):              419.005\n",
            "Skew:                          -3.845   Prob(JB):                     1.03e-91\n",
            "Kurtosis:                      19.616   Cond. No.                     2.58e+03\n",
            "==============================================================================\n",
            "\n",
            "Notes:\n",
            "[1] Standard Errors assume that the covariance matrix of the errors is correctly specified.\n",
            "[2] The condition number is large, 2.58e+03. This might indicate that there are\n",
            "strong multicollinearity or other numerical problems.\n"
          ]
        }
      ]
    },
    {
      "cell_type": "markdown",
      "source": [
        "### 교재 풀이"
      ],
      "metadata": {
        "id": "XKxgOncsz86R"
      }
    },
    {
      "cell_type": "code",
      "source": [
        "# 다중 선형 회귀 모델 적합\n",
        "from statsmodels.formula.api import ols\n",
        "model = ols('주문량 ~ 할인율 + 온도 + 광고비', data=df).fit()\n",
        "\n",
        "# 1. 상관계수\n",
        "print(\"1. 상관계수:\", round(df['할인율'].corr(df['온도']), 2))\n",
        "\n",
        "# 2. 결정계수\n",
        "print(\"2. 결정계수(R-squared):\", round(model.rsquared, 2))\n",
        "\n",
        "# 3. 회귀계수(기울기)\n",
        "print(\"3. 회귀계수:\", round(model.params, 4))\n",
        "\n",
        "# 4. 절편\n",
        "print(\"4. 절편:\", round(model.params['Intercept'], 4))\n",
        "\n",
        "# 5. 회귀계수 검정\n",
        "print(\"5. pvalue:\", round(model.pvalues['온도'], 4))\n",
        "\n",
        "# 6. 예측 판매량\n",
        "new_data = pd.DataFrame({\"할인율\": [10], \"온도\": [20], \"광고비\": [500]})\n",
        "result = model.predict(new_data)\n",
        "print(\"6. 새로운 데이터:\", int(result[0]))\n",
        "\n",
        "# 7. 잔차 제곱합\n",
        "df['잔차'] = df['주문량'] - model.predict(df)\n",
        "print(\"7. 잔차 제곱합:\", round(sum(df['잔차']**2), 2))\n",
        "\n",
        "# 8. MSE(Mean Squared Error)\n",
        "MSE = (df['잔차'] ** 2).mean()\n",
        "print('8. MSE:', round(MSE, 4))\n",
        "\n",
        "# 9. 각 변수에 대한 90% 신뢰구간\n",
        "print(\"9. 신뢰구간:\\n\", model.conf_int(alpha=0.1))\n",
        "\n",
        "# 10. 새로운 데이터의 예측값의 90% 신뢰구간과 예측구간\n",
        "new_data = pd.DataFrame({\"할인율\": [15], \"온도\": [25], \"광고비\": [300]})\n",
        "pred = model.get_prediction(new_data)\n",
        "result = pred.summary_frame(alpha=0.1)\n",
        "print(\"10. 예측값의 신뢰구간과 예측구간:\\n\", result)\n",
        "\n",
        "# 11. 광고비는 배달 주문량에 영향을 주는지 가설 검정\n",
        "cond = model.pvalues['광고비'] < 0.05\n",
        "if cond:\n",
        "    result = \"기각\"\n",
        "else:\n",
        "    result = \"채택\"\n",
        "print(\"11. 귀무가설\", result)\n",
        "\n",
        "# 선형 회귀 모델의 요약 결과\n",
        "print(model.summary())"
      ],
      "metadata": {
        "colab": {
          "base_uri": "https://localhost:8080/"
        },
        "id": "4QqMcXwgTPcT",
        "outputId": "096a4a36-e9b6-48b9-de9d-9a41405bdf2a"
      },
      "execution_count": null,
      "outputs": [
        {
          "output_type": "stream",
          "name": "stdout",
          "text": [
            "1. 상관계수: 0.09\n",
            "2. 결정계수(R-squared): 0.4\n",
            "3. 회귀계수: Intercept    267.6609\n",
            "할인율            4.2068\n",
            "온도             9.4798\n",
            "광고비            0.4148\n",
            "dtype: float64\n",
            "4. 절편: 267.6609\n",
            "5. pvalue: 0.0289\n",
            "6. 새로운 데이터: 706\n",
            "7. 잔차 제곱합: 732197.9\n",
            "8. MSE: 24406.5966\n",
            "9. 신뢰구간:\n",
            "                    0           1\n",
            "Intercept  45.955720  489.366084\n",
            "할인율        -1.847229   10.260887\n",
            "온도          2.490702   16.468984\n",
            "광고비         0.201064    0.628589\n",
            "10. 예측값의 신뢰구간과 예측구간:\n",
            "          mean    mean_se  mean_ci_lower  mean_ci_upper  obs_ci_lower  \\\n",
            "0  692.207386  45.555397     614.507283     769.907488    395.622293   \n",
            "\n",
            "   obs_ci_upper  \n",
            "0    988.792478  \n",
            "11. 귀무가설 기각\n",
            "                            OLS Regression Results                            \n",
            "==============================================================================\n",
            "Dep. Variable:                    주문량   R-squared:                       0.400\n",
            "Model:                            OLS   Adj. R-squared:                  0.330\n",
            "Method:                 Least Squares   F-statistic:                     5.770\n",
            "Date:                Fri, 25 Oct 2024   Prob (F-statistic):            0.00366\n",
            "Time:                        05:31:46   Log-Likelihood:                -194.11\n",
            "No. Observations:                  30   AIC:                             396.2\n",
            "Df Residuals:                      26   BIC:                             401.8\n",
            "Df Model:                           3                                         \n",
            "Covariance Type:            nonrobust                                         \n",
            "==============================================================================\n",
            "                 coef    std err          t      P>|t|      [0.025      0.975]\n",
            "------------------------------------------------------------------------------\n",
            "Intercept    267.6609    129.985      2.059      0.050       0.472     534.849\n",
            "할인율            4.2068      3.549      1.185      0.247      -3.089      11.503\n",
            "온도             9.4798      4.098      2.313      0.029       1.057      17.903\n",
            "광고비            0.4148      0.125      3.310      0.003       0.157       0.672\n",
            "==============================================================================\n",
            "Omnibus:                       56.788   Durbin-Watson:                   1.647\n",
            "Prob(Omnibus):                  0.000   Jarque-Bera (JB):              419.005\n",
            "Skew:                          -3.845   Prob(JB):                     1.03e-91\n",
            "Kurtosis:                      19.616   Cond. No.                     2.58e+03\n",
            "==============================================================================\n",
            "\n",
            "Notes:\n",
            "[1] Standard Errors assume that the covariance matrix of the errors is correctly specified.\n",
            "[2] The condition number is large, 2.58e+03. This might indicate that there are\n",
            "strong multicollinearity or other numerical problems.\n"
          ]
        }
      ]
    },
    {
      "cell_type": "markdown",
      "source": [
        "# SECTION 09 - 로지스틱 회귀\n",
        "\n",
        "> 문제 - 주어진 데이터를 이용하여 데이터를 앞 50% a와 나머지 50% b로 나누시오. a 데이터로 로지스틱 회귀 모델을 적합하고, 다음 문제에 답하시오.\n",
        "\n",
        "\n",
        "```python\n",
        "import pandas as pd\n",
        "# df = pd.read_csv(\"customer_travel.csv\")\n",
        "df = pd.read_csv(\"https://raw.githubusercontent.com/lovedlim/bigdata_analyst_cert/main/part4/ch8/customer_travel.csv\")\n",
        "\n",
        "df.head()\n",
        "```"
      ],
      "metadata": {
        "id": "qn6BR7CQrUVt"
      }
    },
    {
      "cell_type": "code",
      "source": [
        "import pandas as pd\n",
        "# df = pd.read_csv(\"customer_travel.csv\")\n",
        "df = pd.read_csv(\"https://raw.githubusercontent.com/lovedlim/bigdata_analyst_cert/main/part4/ch8/customer_travel.csv\")\n",
        "print(df.head())\n",
        "\n",
        "# 데이터분할\n",
        "midpoint = len(df) // 2\n",
        "a = df.iloc[:midpoint]\n",
        "b = df.iloc[midpoint:]\n",
        "print(a.shape, b.shape)\n",
        "\n",
        "# 종속변수 target과 모든 독립변수를 사용해서 로지스틱 회귀 모델을 만들고, 유의하지 않은 독립변수의 개수를 구하시오 (유의수준 0.05)\n",
        "from statsmodels.formula.api import logit\n",
        "model = logit('target ~ age + service + social + booked', data=a).fit()\n",
        "print(sum((model.pvalues[1:] >= 0.05)))\n",
        "\n",
        "# p-value가 0.05보다 작은 유의한 변수만 사용해서 수정된 모델을 만들고 적합성 검정하시오. 이 수정된 모델에서 가장 큰 p-value를 가진 변수의 이름을 구하시오.\n",
        "print(model.pvalues[1:] < 0.05)\n",
        "model = logit('target ~ age + booked', data=a).fit()\n",
        "print(model.pvalues[1:].idxmax())\n",
        "\n",
        "# 수정된 모델에서 독립변수 중 가장 큰 양의 회귀계수를 가진 변수의 이름을 구하시오\n",
        "print(model.params[1:].idxmax())\n",
        "\n",
        "# 수정된 모델에서 로그 우도를 구하시오\n",
        "print(model.llf)\n",
        "\n",
        "# 수정된 모델에서 잔차이탈도를 구하시오\n",
        "print(-2 ** model.llf)\n",
        "\n",
        "# 수정된 모델에서 'booked'변수가 3 증가할 때 오즈비를 계산하시오\n",
        "print(model.params['booked'] * 3)\n",
        "\n",
        "# 수정된 모델에서 p-value가 0.05보다 작은 회귀계수의 총합을 구하시오(단,절편도 유의할 경우 포함할것)\n",
        "print(model.pvalues[:] < 0.05)\n",
        "print(model.params['Intercept'] + model.params['age'] + model.params['booked'])\n",
        "\n",
        "# 수정된 모델로 b 데이터를 이용해 예측한 후, b 데이터의 target과 비교해 정확도를 계산하시오\n",
        "pred = model.predict(b)\n",
        "pred = (pred>0.5).astype(int)\n",
        "\n",
        "from sklearn.metrics import accuracy_score\n",
        "accuracy = accuracy_score(b['target'], pred)\n",
        "print(accuracy)\n",
        "\n",
        "# 계산한 정확도를 바탕으로 오류률을 계산하시오\n",
        "error_rate = 1 - accuracy\n",
        "print(error_rate)\n"
      ],
      "metadata": {
        "colab": {
          "base_uri": "https://localhost:8080/"
        },
        "id": "k1Czox3XGc2_",
        "outputId": "9966a15f-a6b1-4ca1-ce64-7d2c45b4e57f"
      },
      "execution_count": 28,
      "outputs": [
        {
          "output_type": "stream",
          "name": "stdout",
          "text": [
            "   age  service  social  booked  target\n",
            "0   34        6       0       1       0\n",
            "1   34        5       1       0       1\n",
            "2   37        3       1       0       0\n",
            "3   30        2       0       0       0\n",
            "4   30        1       0       0       0\n",
            "(400, 5) (400, 5)\n",
            "Optimization terminated successfully.\n",
            "         Current function value: 0.527521\n",
            "         Iterations 6\n",
            "2\n",
            "age         True\n",
            "service    False\n",
            "social     False\n",
            "booked      True\n",
            "dtype: bool\n",
            "Optimization terminated successfully.\n",
            "         Current function value: 0.528581\n",
            "         Iterations 6\n",
            "age\n",
            "age\n",
            "-211.4323825144558\n",
            "-2.2517014549781303e-64\n",
            "-2.8381624812556097\n",
            "Intercept    True\n",
            "age          True\n",
            "booked       True\n",
            "dtype: bool\n",
            "1.409468270586192\n",
            "0.765\n",
            "0.235\n"
          ]
        }
      ]
    },
    {
      "cell_type": "markdown",
      "source": [
        "### 교재 풀이"
      ],
      "metadata": {
        "id": "sbFB6V83lCkI"
      }
    },
    {
      "cell_type": "code",
      "source": [
        "import pandas as pd\n",
        "# df = pd.read_csv(\"customer_travel.csv\")\n",
        "df = pd.read_csv(\"https://raw.githubusercontent.com/lovedlim/bigdata_analyst_cert/main/part4/ch8/customer_travel.csv\")\n",
        "print(df.head())\n",
        "\n",
        "# 데이터 분할\n",
        "midpoint = len(df) // 2 #몫(정수)\n",
        "a = df.iloc[:midpoint]\n",
        "b = df.iloc[midpoint:]\n",
        "\n",
        "# 데이터 확인\n",
        "a.shape, b.shape\n",
        "\n",
        "# 1) 유의하지 않은 독립변수의 개수\n",
        "from statsmodels.formula.api import logit\n",
        "formula = \"target ~ age + service + social + booked\"\n",
        "model = logit(formula, data=a).fit()\n",
        "print(model.summary())\n",
        "print(\"1.\", sum(model.pvalues[1:] >= 0.05)) # 상수항(Intercept) 제외\n",
        "\n",
        "# 2. 수정된 모델에서 가장 큰 p-value를 가진 변수의 이름\n",
        "formula = 'target ~ age + booked'\n",
        "model = logit(formula, data=a).fit()\n",
        "print(model.summary())\n",
        "print(\"2.\", model.pvalues[1:].idxmax()) # 상수항(Intercept) 제외\n",
        "\n",
        "\n",
        "# 3. 수정된 모델에서 독립변수 중 가장 큰 양의 회귀계수를 가진 변수의 이름\n",
        "print(\"3.\", model.params[1:].idxmax())\n",
        "# print(\"3. 답 없음(양의 회귀계수가 없음)\")\n",
        "\n",
        "# 4. 로그 우도\n",
        "print(\"4.\", model.llf)\n",
        "\n",
        "# 5. 잔차이탈도\n",
        "print(\"5.\", -2 * model.llf)\n",
        "\n",
        "# 6. 'booked' 변수가 3 증가할 때 오즈비\n",
        "import numpy as np\n",
        "print(\"6.\", np.exp(model.params['booked'] * 3))\n",
        "\n",
        "# 7. p-value가 0.05보다 작은 회귀계수의 총합\n",
        "print(\"7.\", model.params[model.pvalues < 0.05].sum()) # 상수항(절편)도 포함\n",
        "\n",
        "# 8. 정확도\n",
        "pred = model.predict(b)\n",
        "pred = (pred > 0.5).astype(int)\n",
        "from sklearn.metrics import accuracy_score\n",
        "accuracy = accuracy_score(b['target'], pred)\n",
        "print(\"8.\", accuracy)\n",
        "\n",
        "# 9. 오류율\n",
        "error_rate = 1 - accuracy\n",
        "error_rate\n",
        "print(\"9.\", error_rate)"
      ],
      "metadata": {
        "colab": {
          "base_uri": "https://localhost:8080/"
        },
        "id": "sD8jhX-UUeSx",
        "outputId": "d51d759c-ce29-4ce1-9f5a-4ec8d5214fd9"
      },
      "execution_count": 30,
      "outputs": [
        {
          "output_type": "stream",
          "name": "stdout",
          "text": [
            "   age  service  social  booked  target\n",
            "0   34        6       0       1       0\n",
            "1   34        5       1       0       1\n",
            "2   37        3       1       0       0\n",
            "3   30        2       0       0       0\n",
            "4   30        1       0       0       0\n",
            "Optimization terminated successfully.\n",
            "         Current function value: 0.527521\n",
            "         Iterations 6\n",
            "                           Logit Regression Results                           \n",
            "==============================================================================\n",
            "Dep. Variable:                 target   No. Observations:                  400\n",
            "Model:                          Logit   Df Residuals:                      395\n",
            "Method:                           MLE   Df Model:                            4\n",
            "Date:                Mon, 11 Nov 2024   Pseudo R-squ.:                 0.05254\n",
            "Time:                        23:33:15   Log-Likelihood:                -211.01\n",
            "converged:                       True   LL-Null:                       -222.71\n",
            "Covariance Type:            nonrobust   LLR p-value:                 0.0001052\n",
            "==============================================================================\n",
            "                 coef    std err          z      P>|z|      [0.025      0.975]\n",
            "------------------------------------------------------------------------------\n",
            "Intercept      2.3314      1.204      1.937      0.053      -0.028       4.691\n",
            "age           -0.1043      0.038     -2.781      0.005      -0.178      -0.031\n",
            "service        0.0452      0.079      0.572      0.567      -0.110       0.200\n",
            "social         0.1920      0.247      0.779      0.436      -0.291       0.675\n",
            "booked        -0.9542      0.272     -3.512      0.000      -1.487      -0.422\n",
            "==============================================================================\n",
            "1. 2\n",
            "Optimization terminated successfully.\n",
            "         Current function value: 0.528581\n",
            "         Iterations 6\n",
            "                           Logit Regression Results                           \n",
            "==============================================================================\n",
            "Dep. Variable:                 target   No. Observations:                  400\n",
            "Model:                          Logit   Df Residuals:                      397\n",
            "Method:                           MLE   Df Model:                            2\n",
            "Date:                Mon, 11 Nov 2024   Pseudo R-squ.:                 0.05064\n",
            "Time:                        23:33:16   Log-Likelihood:                -211.43\n",
            "converged:                       True   LL-Null:                       -222.71\n",
            "Covariance Type:            nonrobust   LLR p-value:                 1.265e-05\n",
            "==============================================================================\n",
            "                 coef    std err          z      P>|z|      [0.025      0.975]\n",
            "------------------------------------------------------------------------------\n",
            "Intercept      2.4581      1.184      2.076      0.038       0.137       4.779\n",
            "age           -0.1025      0.037     -2.752      0.006      -0.176      -0.030\n",
            "booked        -0.9461      0.267     -3.542      0.000      -1.470      -0.423\n",
            "==============================================================================\n",
            "2. age\n",
            "3. age\n",
            "4. -211.4323825144558\n",
            "5. 422.8647650289116\n",
            "6. 0.058533122917711476\n",
            "7. 1.409468270586192\n",
            "8. 0.765\n",
            "9. 0.235\n"
          ]
        }
      ]
    }
  ],
  "metadata": {
    "colab": {
      "provenance": [],
      "toc_visible": true
    },
    "kernelspec": {
      "display_name": "Python 3",
      "name": "python3"
    },
    "language_info": {
      "name": "python"
    }
  },
  "nbformat": 4,
  "nbformat_minor": 0
}